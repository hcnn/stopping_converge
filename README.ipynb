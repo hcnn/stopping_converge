{
 "cells": [
  {
   "cell_type": "raw",
   "metadata": {},
   "source": [
    "---\n",
    "title: \"stopping_converge\"\n",
    "date: 2018-08-29T07:00:00+02:00\n",
    "draft: false\n",
    "tags: [\"stopping_converge\", \"stopping criteria\", \"termination criteria\", \"gradient descent\", \"numerical optimization\", \"local minimum escape\"]\n",
    "---"
   ]
  },
  {
   "cell_type": "markdown",
   "metadata": {},
   "source": [
    "### Check Convergence\n",
    "The main property of a gradient descent method is that the target function $f$ shrinks in the next step $k+1$\n",
    "\n",
    "$$\n",
    "f(x_{k+1}) < f(x_k) \\quad \\forall \\, k=\\{1,2,...\\}\n",
    "$$\n",
    "\n",
    "The termination criteria is true if\n",
    "\n",
    "$$\n",
    "f(x_{k+1}) \\geq \\lambda \\, f(x_k) \n",
    "\\Leftrightarrow \\frac{f(x_{k+1})}{f(x_k)} \\geq \\lambda\n",
    "$$\n",
    "\n",
    "Cases\n",
    "\n",
    "* $\\lambda = 1$ : Gradient Descent, see above\n",
    "* $0 < \\lambda < 1$ : Target function must be $1/\\lambda$ times smaller than in previous step\n",
    "* $\\lambda > 1$ : Unlearning is allowed if target function is just $\\lambda$ times bigger than in previous step.\n",
    "\n",
    "For example, if the optimization problem is known to have many local minima, and the \"global minimum\" is a rather theoretical idea (Yes, it should be \"somewhere\"...) then some slight \"unlearning\" $\\lambda>1.0$ allows to escape a local minima."
   ]
  },
  {
   "cell_type": "markdown",
   "metadata": {},
   "source": [
    "### C Implementation"
   ]
  },
  {
   "cell_type": "code",
   "execution_count": 1,
   "metadata": {
    "ExecuteTime": {
     "end_time": "2018-08-29T06:12:19.424704Z",
     "start_time": "2018-08-29T06:12:19.269150Z"
    }
   },
   "outputs": [
    {
     "name": "stdout",
     "output_type": "stream",
     "text": [
      "false -> proceed\n",
      "true -> stop\n"
     ]
    }
   ],
   "source": [
    "#include <stdio.h> //printf\n",
    "#include <stdbool.h> //bool\n",
    "\n",
    "/* true  = yes,stop\n",
    " * false = no,proceed */\n",
    "bool stopping_converge(double f1, double f0, double lambda){\n",
    "    return (f1 >= lambda*f0) ? true : false;\n",
    "}\n",
    "\n",
    "int main(){\n",
    "    double lambda = 10;\n",
    "    double f0 = 10.0;\n",
    "    double f1 = 10.1;\n",
    "    bool res;\n",
    "    \n",
    "    res = stopping_converge(f1, f0, lambda);\n",
    "    printf(\"%s\\n\", res ? \"true -> stop\" : \"false -> proceed\");\n",
    "\n",
    "    res = stopping_converge(f1, f0, 1.0);\n",
    "    printf(\"%s\\n\", res ? \"true -> stop\" : \"false -> proceed\");\n",
    "}"
   ]
  }
 ],
 "metadata": {
  "kernelspec": {
   "display_name": "C",
   "language": "c",
   "name": "c"
  },
  "language_info": {
   "file_extension": ".c",
   "mimetype": "text/plain",
   "name": "c"
  },
  "toc": {
   "base_numbering": 1,
   "nav_menu": {},
   "number_sections": true,
   "sideBar": true,
   "skip_h1_title": false,
   "title_cell": "Table of Contents",
   "title_sidebar": "Contents",
   "toc_cell": false,
   "toc_position": {},
   "toc_section_display": true,
   "toc_window_display": false
  },
  "varInspector": {
   "cols": {
    "lenName": 16,
    "lenType": 16,
    "lenVar": 40
   },
   "kernels_config": {
    "python": {
     "delete_cmd_postfix": "",
     "delete_cmd_prefix": "del ",
     "library": "var_list.py",
     "varRefreshCmd": "print(var_dic_list())"
    },
    "r": {
     "delete_cmd_postfix": ") ",
     "delete_cmd_prefix": "rm(",
     "library": "var_list.r",
     "varRefreshCmd": "cat(var_dic_list()) "
    }
   },
   "types_to_exclude": [
    "module",
    "function",
    "builtin_function_or_method",
    "instance",
    "_Feature"
   ],
   "window_display": false
  }
 },
 "nbformat": 4,
 "nbformat_minor": 2
}
